{
 "cells": [
  {
   "cell_type": "code",
   "execution_count": 1,
   "id": "c123f863",
   "metadata": {},
   "outputs": [],
   "source": [
    "import numpy as np\n",
    "import pandas as pd\n",
    "import seaborn as sns\n",
    "import matplotlib.pyplot as plt\n",
    "%matplotlib inline\n",
    "import warnings\n",
    "warnings.filterwarnings('ignore')\n",
    "from sklearn.model_selection import train_test_split, cross_val_score\n",
    "from sklearn.linear_model import LinearRegression, Lasso, HuberRegressor, ARDRegression, PoissonRegressor, RANSACRegressor, TweedieRegressor\n",
    "from sklearn.preprocessing import StandardScaler, LabelEncoder\n",
    "from sklearn.metrics import mean_absolute_error, mean_squared_error, r2_score\n",
    "import joblib\n",
    "from xgboost import XGBRegressor\n",
    "from sklearn.tree import DecisionTreeRegressor\n",
    "from sklearn.ensemble import RandomForestRegressor"
   ]
  },
  {
   "cell_type": "code",
   "execution_count": 2,
   "id": "d4263636",
   "metadata": {},
   "outputs": [],
   "source": [
    "plt.rcParams['figure.figsize'] = (12,8)"
   ]
  },
  {
   "cell_type": "code",
   "execution_count": 3,
   "id": "381dde59",
   "metadata": {},
   "outputs": [],
   "source": [
    "pd.set_option('display.float_format', lambda x: '%.3f' % x)"
   ]
  },
  {
   "cell_type": "code",
   "execution_count": 4,
   "id": "de1103ac",
   "metadata": {},
   "outputs": [
    {
     "data": {
      "text/html": [
       "<div>\n",
       "<style scoped>\n",
       "    .dataframe tbody tr th:only-of-type {\n",
       "        vertical-align: middle;\n",
       "    }\n",
       "\n",
       "    .dataframe tbody tr th {\n",
       "        vertical-align: top;\n",
       "    }\n",
       "\n",
       "    .dataframe thead th {\n",
       "        text-align: right;\n",
       "    }\n",
       "</style>\n",
       "<table border=\"1\" class=\"dataframe\">\n",
       "  <thead>\n",
       "    <tr style=\"text-align: right;\">\n",
       "      <th></th>\n",
       "      <th>id</th>\n",
       "      <th>url</th>\n",
       "      <th>region</th>\n",
       "      <th>region_url</th>\n",
       "      <th>price</th>\n",
       "      <th>type</th>\n",
       "      <th>sqfeet</th>\n",
       "      <th>beds</th>\n",
       "      <th>baths</th>\n",
       "      <th>cats_allowed</th>\n",
       "      <th>...</th>\n",
       "      <th>wheelchair_access</th>\n",
       "      <th>electric_vehicle_charge</th>\n",
       "      <th>comes_furnished</th>\n",
       "      <th>laundry_options</th>\n",
       "      <th>parking_options</th>\n",
       "      <th>image_url</th>\n",
       "      <th>description</th>\n",
       "      <th>lat</th>\n",
       "      <th>long</th>\n",
       "      <th>state</th>\n",
       "    </tr>\n",
       "  </thead>\n",
       "  <tbody>\n",
       "    <tr>\n",
       "      <th>0</th>\n",
       "      <td>7039061606</td>\n",
       "      <td>https://bham.craigslist.org/apa/d/birmingham-h...</td>\n",
       "      <td>birmingham</td>\n",
       "      <td>https://bham.craigslist.org</td>\n",
       "      <td>1195</td>\n",
       "      <td>apartment</td>\n",
       "      <td>1908</td>\n",
       "      <td>3</td>\n",
       "      <td>2.000</td>\n",
       "      <td>1</td>\n",
       "      <td>...</td>\n",
       "      <td>0</td>\n",
       "      <td>0</td>\n",
       "      <td>0</td>\n",
       "      <td>laundry on site</td>\n",
       "      <td>street parking</td>\n",
       "      <td>https://images.craigslist.org/00L0L_80pNkyDeG0...</td>\n",
       "      <td>Apartments In Birmingham AL Welcome to 100 Inv...</td>\n",
       "      <td>33.423</td>\n",
       "      <td>-86.707</td>\n",
       "      <td>al</td>\n",
       "    </tr>\n",
       "    <tr>\n",
       "      <th>1</th>\n",
       "      <td>7041970863</td>\n",
       "      <td>https://bham.craigslist.org/apa/d/birmingham-w...</td>\n",
       "      <td>birmingham</td>\n",
       "      <td>https://bham.craigslist.org</td>\n",
       "      <td>1120</td>\n",
       "      <td>apartment</td>\n",
       "      <td>1319</td>\n",
       "      <td>3</td>\n",
       "      <td>2.000</td>\n",
       "      <td>1</td>\n",
       "      <td>...</td>\n",
       "      <td>0</td>\n",
       "      <td>0</td>\n",
       "      <td>0</td>\n",
       "      <td>laundry on site</td>\n",
       "      <td>off-street parking</td>\n",
       "      <td>https://images.craigslist.org/00707_uRrY9CsNMC...</td>\n",
       "      <td>Find Your Way to Haven Apartment Homes Come ho...</td>\n",
       "      <td>33.376</td>\n",
       "      <td>-86.805</td>\n",
       "      <td>al</td>\n",
       "    </tr>\n",
       "    <tr>\n",
       "      <th>2</th>\n",
       "      <td>7041966914</td>\n",
       "      <td>https://bham.craigslist.org/apa/d/birmingham-g...</td>\n",
       "      <td>birmingham</td>\n",
       "      <td>https://bham.craigslist.org</td>\n",
       "      <td>825</td>\n",
       "      <td>apartment</td>\n",
       "      <td>1133</td>\n",
       "      <td>1</td>\n",
       "      <td>1.500</td>\n",
       "      <td>1</td>\n",
       "      <td>...</td>\n",
       "      <td>0</td>\n",
       "      <td>0</td>\n",
       "      <td>0</td>\n",
       "      <td>laundry on site</td>\n",
       "      <td>street parking</td>\n",
       "      <td>https://images.craigslist.org/00h0h_b7Bdj1NLBi...</td>\n",
       "      <td>Apartments In Birmingham AL Welcome to 100 Inv...</td>\n",
       "      <td>33.423</td>\n",
       "      <td>-86.707</td>\n",
       "      <td>al</td>\n",
       "    </tr>\n",
       "    <tr>\n",
       "      <th>3</th>\n",
       "      <td>7041966936</td>\n",
       "      <td>https://bham.craigslist.org/apa/d/birmingham-f...</td>\n",
       "      <td>birmingham</td>\n",
       "      <td>https://bham.craigslist.org</td>\n",
       "      <td>800</td>\n",
       "      <td>apartment</td>\n",
       "      <td>927</td>\n",
       "      <td>1</td>\n",
       "      <td>1.000</td>\n",
       "      <td>1</td>\n",
       "      <td>...</td>\n",
       "      <td>0</td>\n",
       "      <td>0</td>\n",
       "      <td>0</td>\n",
       "      <td>laundry on site</td>\n",
       "      <td>street parking</td>\n",
       "      <td>https://images.craigslist.org/00808_6ghZ8tSRQs...</td>\n",
       "      <td>Apartments In Birmingham AL Welcome to 100 Inv...</td>\n",
       "      <td>33.423</td>\n",
       "      <td>-86.707</td>\n",
       "      <td>al</td>\n",
       "    </tr>\n",
       "    <tr>\n",
       "      <th>4</th>\n",
       "      <td>7041966888</td>\n",
       "      <td>https://bham.craigslist.org/apa/d/birmingham-2...</td>\n",
       "      <td>birmingham</td>\n",
       "      <td>https://bham.craigslist.org</td>\n",
       "      <td>785</td>\n",
       "      <td>apartment</td>\n",
       "      <td>1047</td>\n",
       "      <td>2</td>\n",
       "      <td>1.000</td>\n",
       "      <td>1</td>\n",
       "      <td>...</td>\n",
       "      <td>0</td>\n",
       "      <td>0</td>\n",
       "      <td>0</td>\n",
       "      <td>laundry on site</td>\n",
       "      <td>street parking</td>\n",
       "      <td>https://images.craigslist.org/00y0y_21c0FOvUXm...</td>\n",
       "      <td>Apartments In Birmingham AL Welcome to 100 Inv...</td>\n",
       "      <td>33.423</td>\n",
       "      <td>-86.707</td>\n",
       "      <td>al</td>\n",
       "    </tr>\n",
       "  </tbody>\n",
       "</table>\n",
       "<p>5 rows × 22 columns</p>\n",
       "</div>"
      ],
      "text/plain": [
       "           id                                                url      region  \\\n",
       "0  7039061606  https://bham.craigslist.org/apa/d/birmingham-h...  birmingham   \n",
       "1  7041970863  https://bham.craigslist.org/apa/d/birmingham-w...  birmingham   \n",
       "2  7041966914  https://bham.craigslist.org/apa/d/birmingham-g...  birmingham   \n",
       "3  7041966936  https://bham.craigslist.org/apa/d/birmingham-f...  birmingham   \n",
       "4  7041966888  https://bham.craigslist.org/apa/d/birmingham-2...  birmingham   \n",
       "\n",
       "                    region_url  price       type  sqfeet  beds  baths  \\\n",
       "0  https://bham.craigslist.org   1195  apartment    1908     3  2.000   \n",
       "1  https://bham.craigslist.org   1120  apartment    1319     3  2.000   \n",
       "2  https://bham.craigslist.org    825  apartment    1133     1  1.500   \n",
       "3  https://bham.craigslist.org    800  apartment     927     1  1.000   \n",
       "4  https://bham.craigslist.org    785  apartment    1047     2  1.000   \n",
       "\n",
       "   cats_allowed  ...  wheelchair_access  electric_vehicle_charge  \\\n",
       "0             1  ...                  0                        0   \n",
       "1             1  ...                  0                        0   \n",
       "2             1  ...                  0                        0   \n",
       "3             1  ...                  0                        0   \n",
       "4             1  ...                  0                        0   \n",
       "\n",
       "   comes_furnished  laundry_options     parking_options  \\\n",
       "0                0  laundry on site      street parking   \n",
       "1                0  laundry on site  off-street parking   \n",
       "2                0  laundry on site      street parking   \n",
       "3                0  laundry on site      street parking   \n",
       "4                0  laundry on site      street parking   \n",
       "\n",
       "                                           image_url  \\\n",
       "0  https://images.craigslist.org/00L0L_80pNkyDeG0...   \n",
       "1  https://images.craigslist.org/00707_uRrY9CsNMC...   \n",
       "2  https://images.craigslist.org/00h0h_b7Bdj1NLBi...   \n",
       "3  https://images.craigslist.org/00808_6ghZ8tSRQs...   \n",
       "4  https://images.craigslist.org/00y0y_21c0FOvUXm...   \n",
       "\n",
       "                                         description    lat    long  state  \n",
       "0  Apartments In Birmingham AL Welcome to 100 Inv... 33.423 -86.707     al  \n",
       "1  Find Your Way to Haven Apartment Homes Come ho... 33.376 -86.805     al  \n",
       "2  Apartments In Birmingham AL Welcome to 100 Inv... 33.423 -86.707     al  \n",
       "3  Apartments In Birmingham AL Welcome to 100 Inv... 33.423 -86.707     al  \n",
       "4  Apartments In Birmingham AL Welcome to 100 Inv... 33.423 -86.707     al  \n",
       "\n",
       "[5 rows x 22 columns]"
      ]
     },
     "execution_count": 4,
     "metadata": {},
     "output_type": "execute_result"
    }
   ],
   "source": [
    "df = pd.read_csv('housing_train.csv')\n",
    "df.head()"
   ]
  },
  {
   "cell_type": "code",
   "execution_count": 5,
   "id": "1b718899",
   "metadata": {},
   "outputs": [
    {
     "data": {
      "text/plain": [
       "(265190, 22)"
      ]
     },
     "execution_count": 5,
     "metadata": {},
     "output_type": "execute_result"
    }
   ],
   "source": [
    "df.shape"
   ]
  },
  {
   "cell_type": "code",
   "execution_count": 6,
   "id": "7fe074cd",
   "metadata": {},
   "outputs": [
    {
     "name": "stdout",
     "output_type": "stream",
     "text": [
      "<class 'pandas.core.frame.DataFrame'>\n",
      "RangeIndex: 265190 entries, 0 to 265189\n",
      "Data columns (total 22 columns):\n",
      " #   Column                   Non-Null Count   Dtype  \n",
      "---  ------                   --------------   -----  \n",
      " 0   id                       265190 non-null  int64  \n",
      " 1   url                      265190 non-null  object \n",
      " 2   region                   265190 non-null  object \n",
      " 3   region_url               265190 non-null  object \n",
      " 4   price                    265190 non-null  int64  \n",
      " 5   type                     265190 non-null  object \n",
      " 6   sqfeet                   265190 non-null  int64  \n",
      " 7   beds                     265190 non-null  int64  \n",
      " 8   baths                    265190 non-null  float64\n",
      " 9   cats_allowed             265190 non-null  int64  \n",
      " 10  dogs_allowed             265190 non-null  int64  \n",
      " 11  smoking_allowed          265190 non-null  int64  \n",
      " 12  wheelchair_access        265190 non-null  int64  \n",
      " 13  electric_vehicle_charge  265190 non-null  int64  \n",
      " 14  comes_furnished          265190 non-null  int64  \n",
      " 15  laundry_options          210879 non-null  object \n",
      " 16  parking_options          170055 non-null  object \n",
      " 17  image_url                265190 non-null  object \n",
      " 18  description              265188 non-null  object \n",
      " 19  lat                      263771 non-null  float64\n",
      " 20  long                     263771 non-null  float64\n",
      " 21  state                    265189 non-null  object \n",
      "dtypes: float64(3), int64(10), object(9)\n",
      "memory usage: 44.5+ MB\n"
     ]
    }
   ],
   "source": [
    "df.info()"
   ]
  },
  {
   "cell_type": "code",
   "execution_count": 7,
   "id": "f6909ab3",
   "metadata": {},
   "outputs": [
    {
     "data": {
      "text/html": [
       "<div>\n",
       "<style scoped>\n",
       "    .dataframe tbody tr th:only-of-type {\n",
       "        vertical-align: middle;\n",
       "    }\n",
       "\n",
       "    .dataframe tbody tr th {\n",
       "        vertical-align: top;\n",
       "    }\n",
       "\n",
       "    .dataframe thead th {\n",
       "        text-align: right;\n",
       "    }\n",
       "</style>\n",
       "<table border=\"1\" class=\"dataframe\">\n",
       "  <thead>\n",
       "    <tr style=\"text-align: right;\">\n",
       "      <th></th>\n",
       "      <th>id</th>\n",
       "      <th>price</th>\n",
       "      <th>sqfeet</th>\n",
       "      <th>beds</th>\n",
       "      <th>baths</th>\n",
       "      <th>cats_allowed</th>\n",
       "      <th>dogs_allowed</th>\n",
       "      <th>smoking_allowed</th>\n",
       "      <th>wheelchair_access</th>\n",
       "      <th>electric_vehicle_charge</th>\n",
       "      <th>comes_furnished</th>\n",
       "      <th>lat</th>\n",
       "      <th>long</th>\n",
       "    </tr>\n",
       "  </thead>\n",
       "  <tbody>\n",
       "    <tr>\n",
       "      <th>count</th>\n",
       "      <td>265190.000</td>\n",
       "      <td>265190.000</td>\n",
       "      <td>265190.000</td>\n",
       "      <td>265190.000</td>\n",
       "      <td>265190.000</td>\n",
       "      <td>265190.000</td>\n",
       "      <td>265190.000</td>\n",
       "      <td>265190.000</td>\n",
       "      <td>265190.000</td>\n",
       "      <td>265190.000</td>\n",
       "      <td>265190.000</td>\n",
       "      <td>263771.000</td>\n",
       "      <td>263771.000</td>\n",
       "    </tr>\n",
       "    <tr>\n",
       "      <th>mean</th>\n",
       "      <td>7040888428.840</td>\n",
       "      <td>12272.854</td>\n",
       "      <td>1093.678</td>\n",
       "      <td>1.912</td>\n",
       "      <td>1.483</td>\n",
       "      <td>0.717</td>\n",
       "      <td>0.697</td>\n",
       "      <td>0.734</td>\n",
       "      <td>0.079</td>\n",
       "      <td>0.014</td>\n",
       "      <td>0.049</td>\n",
       "      <td>37.209</td>\n",
       "      <td>-92.398</td>\n",
       "    </tr>\n",
       "    <tr>\n",
       "      <th>std</th>\n",
       "      <td>8778929.710</td>\n",
       "      <td>5376351.716</td>\n",
       "      <td>23068.876</td>\n",
       "      <td>3.692</td>\n",
       "      <td>0.630</td>\n",
       "      <td>0.451</td>\n",
       "      <td>0.460</td>\n",
       "      <td>0.442</td>\n",
       "      <td>0.269</td>\n",
       "      <td>0.119</td>\n",
       "      <td>0.215</td>\n",
       "      <td>5.660</td>\n",
       "      <td>17.371</td>\n",
       "    </tr>\n",
       "    <tr>\n",
       "      <th>min</th>\n",
       "      <td>7003808130.000</td>\n",
       "      <td>0.000</td>\n",
       "      <td>0.000</td>\n",
       "      <td>0.000</td>\n",
       "      <td>0.000</td>\n",
       "      <td>0.000</td>\n",
       "      <td>0.000</td>\n",
       "      <td>0.000</td>\n",
       "      <td>0.000</td>\n",
       "      <td>0.000</td>\n",
       "      <td>0.000</td>\n",
       "      <td>-43.533</td>\n",
       "      <td>-163.894</td>\n",
       "    </tr>\n",
       "    <tr>\n",
       "      <th>25%</th>\n",
       "      <td>7035963170.000</td>\n",
       "      <td>817.000</td>\n",
       "      <td>752.000</td>\n",
       "      <td>1.000</td>\n",
       "      <td>1.000</td>\n",
       "      <td>0.000</td>\n",
       "      <td>0.000</td>\n",
       "      <td>0.000</td>\n",
       "      <td>0.000</td>\n",
       "      <td>0.000</td>\n",
       "      <td>0.000</td>\n",
       "      <td>33.508</td>\n",
       "      <td>-104.704</td>\n",
       "    </tr>\n",
       "    <tr>\n",
       "      <th>50%</th>\n",
       "      <td>7043108598.000</td>\n",
       "      <td>1060.000</td>\n",
       "      <td>950.000</td>\n",
       "      <td>2.000</td>\n",
       "      <td>1.000</td>\n",
       "      <td>1.000</td>\n",
       "      <td>1.000</td>\n",
       "      <td>1.000</td>\n",
       "      <td>0.000</td>\n",
       "      <td>0.000</td>\n",
       "      <td>0.000</td>\n",
       "      <td>37.985</td>\n",
       "      <td>-86.478</td>\n",
       "    </tr>\n",
       "    <tr>\n",
       "      <th>75%</th>\n",
       "      <td>7048361724.750</td>\n",
       "      <td>1450.000</td>\n",
       "      <td>1156.000</td>\n",
       "      <td>2.000</td>\n",
       "      <td>2.000</td>\n",
       "      <td>1.000</td>\n",
       "      <td>1.000</td>\n",
       "      <td>1.000</td>\n",
       "      <td>0.000</td>\n",
       "      <td>0.000</td>\n",
       "      <td>0.000</td>\n",
       "      <td>41.168</td>\n",
       "      <td>-81.285</td>\n",
       "    </tr>\n",
       "    <tr>\n",
       "      <th>max</th>\n",
       "      <td>7051263014.000</td>\n",
       "      <td>2768307249.000</td>\n",
       "      <td>8388607.000</td>\n",
       "      <td>1100.000</td>\n",
       "      <td>75.000</td>\n",
       "      <td>1.000</td>\n",
       "      <td>1.000</td>\n",
       "      <td>1.000</td>\n",
       "      <td>1.000</td>\n",
       "      <td>1.000</td>\n",
       "      <td>1.000</td>\n",
       "      <td>102.036</td>\n",
       "      <td>172.633</td>\n",
       "    </tr>\n",
       "  </tbody>\n",
       "</table>\n",
       "</div>"
      ],
      "text/plain": [
       "                  id          price      sqfeet       beds      baths  \\\n",
       "count     265190.000     265190.000  265190.000 265190.000 265190.000   \n",
       "mean  7040888428.840      12272.854    1093.678      1.912      1.483   \n",
       "std      8778929.710    5376351.716   23068.876      3.692      0.630   \n",
       "min   7003808130.000          0.000       0.000      0.000      0.000   \n",
       "25%   7035963170.000        817.000     752.000      1.000      1.000   \n",
       "50%   7043108598.000       1060.000     950.000      2.000      1.000   \n",
       "75%   7048361724.750       1450.000    1156.000      2.000      2.000   \n",
       "max   7051263014.000 2768307249.000 8388607.000   1100.000     75.000   \n",
       "\n",
       "       cats_allowed  dogs_allowed  smoking_allowed  wheelchair_access  \\\n",
       "count    265190.000    265190.000       265190.000         265190.000   \n",
       "mean          0.717         0.697            0.734              0.079   \n",
       "std           0.451         0.460            0.442              0.269   \n",
       "min           0.000         0.000            0.000              0.000   \n",
       "25%           0.000         0.000            0.000              0.000   \n",
       "50%           1.000         1.000            1.000              0.000   \n",
       "75%           1.000         1.000            1.000              0.000   \n",
       "max           1.000         1.000            1.000              1.000   \n",
       "\n",
       "       electric_vehicle_charge  comes_furnished        lat       long  \n",
       "count               265190.000       265190.000 263771.000 263771.000  \n",
       "mean                     0.014            0.049     37.209    -92.398  \n",
       "std                      0.119            0.215      5.660     17.371  \n",
       "min                      0.000            0.000    -43.533   -163.894  \n",
       "25%                      0.000            0.000     33.508   -104.704  \n",
       "50%                      0.000            0.000     37.985    -86.478  \n",
       "75%                      0.000            0.000     41.168    -81.285  \n",
       "max                      1.000            1.000    102.036    172.633  "
      ]
     },
     "execution_count": 7,
     "metadata": {},
     "output_type": "execute_result"
    }
   ],
   "source": [
    "df.describe()"
   ]
  },
  {
   "cell_type": "code",
   "execution_count": 8,
   "id": "389593ac",
   "metadata": {},
   "outputs": [
    {
     "data": {
      "text/plain": [
       "id                             0\n",
       "url                            0\n",
       "region                         0\n",
       "region_url                     0\n",
       "price                          0\n",
       "type                           0\n",
       "sqfeet                         0\n",
       "beds                           0\n",
       "baths                          0\n",
       "cats_allowed                   0\n",
       "dogs_allowed                   0\n",
       "smoking_allowed                0\n",
       "wheelchair_access              0\n",
       "electric_vehicle_charge        0\n",
       "comes_furnished                0\n",
       "laundry_options            54311\n",
       "parking_options            95135\n",
       "image_url                      0\n",
       "description                    2\n",
       "lat                         1419\n",
       "long                        1419\n",
       "state                          1\n",
       "dtype: int64"
      ]
     },
     "execution_count": 8,
     "metadata": {},
     "output_type": "execute_result"
    }
   ],
   "source": [
    "df.isnull().sum() "
   ]
  },
  {
   "cell_type": "markdown",
   "id": "c148934f",
   "metadata": {},
   "source": [
    "## Removal of unnecessary columns"
   ]
  },
  {
   "cell_type": "code",
   "execution_count": 9,
   "id": "b783d802",
   "metadata": {},
   "outputs": [],
   "source": [
    "df.drop(['id','url','region_url','description','image_url'],axis=1,inplace=True)"
   ]
  },
  {
   "cell_type": "markdown",
   "id": "e4ad8659",
   "metadata": {},
   "source": [
    "## Imputation of missing values"
   ]
  },
  {
   "cell_type": "code",
   "execution_count": 10,
   "id": "782429b8",
   "metadata": {},
   "outputs": [],
   "source": [
    "df['laundry_options'].fillna(df['laundry_options'].mode()[0],inplace=True)\n",
    "df['parking_options'].fillna(df['parking_options'].mode()[0],inplace=True)\n",
    "df['state'].fillna(df['state'].mode()[0],inplace=True)\n",
    "df['lat'].fillna(df['lat'].mean(),inplace=True)\n",
    "df['long'].fillna(df['long'].mean(),inplace=True)"
   ]
  },
  {
   "cell_type": "code",
   "execution_count": 11,
   "id": "792986b3",
   "metadata": {},
   "outputs": [
    {
     "data": {
      "text/plain": [
       "region                     0\n",
       "price                      0\n",
       "type                       0\n",
       "sqfeet                     0\n",
       "beds                       0\n",
       "baths                      0\n",
       "cats_allowed               0\n",
       "dogs_allowed               0\n",
       "smoking_allowed            0\n",
       "wheelchair_access          0\n",
       "electric_vehicle_charge    0\n",
       "comes_furnished            0\n",
       "laundry_options            0\n",
       "parking_options            0\n",
       "lat                        0\n",
       "long                       0\n",
       "state                      0\n",
       "dtype: int64"
      ]
     },
     "execution_count": 11,
     "metadata": {},
     "output_type": "execute_result"
    }
   ],
   "source": [
    "df.isna().sum()"
   ]
  },
  {
   "cell_type": "code",
   "execution_count": 12,
   "id": "d2448ec4",
   "metadata": {},
   "outputs": [
    {
     "data": {
      "text/html": [
       "<div>\n",
       "<style scoped>\n",
       "    .dataframe tbody tr th:only-of-type {\n",
       "        vertical-align: middle;\n",
       "    }\n",
       "\n",
       "    .dataframe tbody tr th {\n",
       "        vertical-align: top;\n",
       "    }\n",
       "\n",
       "    .dataframe thead th {\n",
       "        text-align: right;\n",
       "    }\n",
       "</style>\n",
       "<table border=\"1\" class=\"dataframe\">\n",
       "  <thead>\n",
       "    <tr style=\"text-align: right;\">\n",
       "      <th></th>\n",
       "      <th>region</th>\n",
       "      <th>price</th>\n",
       "      <th>type</th>\n",
       "      <th>sqfeet</th>\n",
       "      <th>beds</th>\n",
       "      <th>baths</th>\n",
       "      <th>cats_allowed</th>\n",
       "      <th>dogs_allowed</th>\n",
       "      <th>smoking_allowed</th>\n",
       "      <th>wheelchair_access</th>\n",
       "      <th>electric_vehicle_charge</th>\n",
       "      <th>comes_furnished</th>\n",
       "      <th>laundry_options</th>\n",
       "      <th>parking_options</th>\n",
       "      <th>lat</th>\n",
       "      <th>long</th>\n",
       "      <th>state</th>\n",
       "    </tr>\n",
       "  </thead>\n",
       "  <tbody>\n",
       "    <tr>\n",
       "      <th>12</th>\n",
       "      <td>birmingham</td>\n",
       "      <td>1120</td>\n",
       "      <td>apartment</td>\n",
       "      <td>1319</td>\n",
       "      <td>3</td>\n",
       "      <td>2.000</td>\n",
       "      <td>1</td>\n",
       "      <td>1</td>\n",
       "      <td>1</td>\n",
       "      <td>0</td>\n",
       "      <td>0</td>\n",
       "      <td>0</td>\n",
       "      <td>laundry on site</td>\n",
       "      <td>off-street parking</td>\n",
       "      <td>33.376</td>\n",
       "      <td>-86.805</td>\n",
       "      <td>al</td>\n",
       "    </tr>\n",
       "    <tr>\n",
       "      <th>19</th>\n",
       "      <td>birmingham</td>\n",
       "      <td>1195</td>\n",
       "      <td>apartment</td>\n",
       "      <td>1908</td>\n",
       "      <td>3</td>\n",
       "      <td>2.000</td>\n",
       "      <td>1</td>\n",
       "      <td>1</td>\n",
       "      <td>1</td>\n",
       "      <td>0</td>\n",
       "      <td>0</td>\n",
       "      <td>0</td>\n",
       "      <td>laundry on site</td>\n",
       "      <td>street parking</td>\n",
       "      <td>33.423</td>\n",
       "      <td>-86.707</td>\n",
       "      <td>al</td>\n",
       "    </tr>\n",
       "    <tr>\n",
       "      <th>24</th>\n",
       "      <td>birmingham</td>\n",
       "      <td>925</td>\n",
       "      <td>apartment</td>\n",
       "      <td>1350</td>\n",
       "      <td>2</td>\n",
       "      <td>2.000</td>\n",
       "      <td>1</td>\n",
       "      <td>1</td>\n",
       "      <td>1</td>\n",
       "      <td>0</td>\n",
       "      <td>0</td>\n",
       "      <td>0</td>\n",
       "      <td>laundry on site</td>\n",
       "      <td>street parking</td>\n",
       "      <td>33.423</td>\n",
       "      <td>-86.707</td>\n",
       "      <td>al</td>\n",
       "    </tr>\n",
       "    <tr>\n",
       "      <th>25</th>\n",
       "      <td>birmingham</td>\n",
       "      <td>785</td>\n",
       "      <td>apartment</td>\n",
       "      <td>1047</td>\n",
       "      <td>2</td>\n",
       "      <td>1.000</td>\n",
       "      <td>1</td>\n",
       "      <td>1</td>\n",
       "      <td>1</td>\n",
       "      <td>0</td>\n",
       "      <td>0</td>\n",
       "      <td>0</td>\n",
       "      <td>laundry on site</td>\n",
       "      <td>street parking</td>\n",
       "      <td>33.423</td>\n",
       "      <td>-86.707</td>\n",
       "      <td>al</td>\n",
       "    </tr>\n",
       "    <tr>\n",
       "      <th>27</th>\n",
       "      <td>birmingham</td>\n",
       "      <td>1120</td>\n",
       "      <td>apartment</td>\n",
       "      <td>1319</td>\n",
       "      <td>3</td>\n",
       "      <td>2.000</td>\n",
       "      <td>1</td>\n",
       "      <td>1</td>\n",
       "      <td>1</td>\n",
       "      <td>0</td>\n",
       "      <td>0</td>\n",
       "      <td>0</td>\n",
       "      <td>laundry on site</td>\n",
       "      <td>off-street parking</td>\n",
       "      <td>33.376</td>\n",
       "      <td>-86.805</td>\n",
       "      <td>al</td>\n",
       "    </tr>\n",
       "    <tr>\n",
       "      <th>...</th>\n",
       "      <td>...</td>\n",
       "      <td>...</td>\n",
       "      <td>...</td>\n",
       "      <td>...</td>\n",
       "      <td>...</td>\n",
       "      <td>...</td>\n",
       "      <td>...</td>\n",
       "      <td>...</td>\n",
       "      <td>...</td>\n",
       "      <td>...</td>\n",
       "      <td>...</td>\n",
       "      <td>...</td>\n",
       "      <td>...</td>\n",
       "      <td>...</td>\n",
       "      <td>...</td>\n",
       "      <td>...</td>\n",
       "      <td>...</td>\n",
       "    </tr>\n",
       "    <tr>\n",
       "      <th>265163</th>\n",
       "      <td>columbus</td>\n",
       "      <td>1060</td>\n",
       "      <td>apartment</td>\n",
       "      <td>949</td>\n",
       "      <td>2</td>\n",
       "      <td>2.000</td>\n",
       "      <td>0</td>\n",
       "      <td>0</td>\n",
       "      <td>1</td>\n",
       "      <td>0</td>\n",
       "      <td>0</td>\n",
       "      <td>0</td>\n",
       "      <td>w/d in unit</td>\n",
       "      <td>off-street parking</td>\n",
       "      <td>40.115</td>\n",
       "      <td>-82.910</td>\n",
       "      <td>oh</td>\n",
       "    </tr>\n",
       "    <tr>\n",
       "      <th>265179</th>\n",
       "      <td>columbus</td>\n",
       "      <td>760</td>\n",
       "      <td>apartment</td>\n",
       "      <td>794</td>\n",
       "      <td>1</td>\n",
       "      <td>1.000</td>\n",
       "      <td>1</td>\n",
       "      <td>1</td>\n",
       "      <td>1</td>\n",
       "      <td>1</td>\n",
       "      <td>0</td>\n",
       "      <td>0</td>\n",
       "      <td>w/d hookups</td>\n",
       "      <td>detached garage</td>\n",
       "      <td>39.966</td>\n",
       "      <td>-83.153</td>\n",
       "      <td>oh</td>\n",
       "    </tr>\n",
       "    <tr>\n",
       "      <th>265183</th>\n",
       "      <td>columbus</td>\n",
       "      <td>870</td>\n",
       "      <td>apartment</td>\n",
       "      <td>933</td>\n",
       "      <td>2</td>\n",
       "      <td>2.000</td>\n",
       "      <td>1</td>\n",
       "      <td>1</td>\n",
       "      <td>1</td>\n",
       "      <td>0</td>\n",
       "      <td>0</td>\n",
       "      <td>0</td>\n",
       "      <td>w/d hookups</td>\n",
       "      <td>street parking</td>\n",
       "      <td>39.897</td>\n",
       "      <td>-82.896</td>\n",
       "      <td>oh</td>\n",
       "    </tr>\n",
       "    <tr>\n",
       "      <th>265184</th>\n",
       "      <td>columbus</td>\n",
       "      <td>929</td>\n",
       "      <td>apartment</td>\n",
       "      <td>728</td>\n",
       "      <td>1</td>\n",
       "      <td>1.000</td>\n",
       "      <td>1</td>\n",
       "      <td>1</td>\n",
       "      <td>1</td>\n",
       "      <td>1</td>\n",
       "      <td>0</td>\n",
       "      <td>0</td>\n",
       "      <td>w/d in unit</td>\n",
       "      <td>off-street parking</td>\n",
       "      <td>39.971</td>\n",
       "      <td>-82.924</td>\n",
       "      <td>oh</td>\n",
       "    </tr>\n",
       "    <tr>\n",
       "      <th>265187</th>\n",
       "      <td>columbus</td>\n",
       "      <td>1507</td>\n",
       "      <td>apartment</td>\n",
       "      <td>1660</td>\n",
       "      <td>2</td>\n",
       "      <td>1.500</td>\n",
       "      <td>1</td>\n",
       "      <td>1</td>\n",
       "      <td>1</td>\n",
       "      <td>0</td>\n",
       "      <td>0</td>\n",
       "      <td>0</td>\n",
       "      <td>w/d in unit</td>\n",
       "      <td>off-street parking</td>\n",
       "      <td>40.056</td>\n",
       "      <td>-83.042</td>\n",
       "      <td>oh</td>\n",
       "    </tr>\n",
       "  </tbody>\n",
       "</table>\n",
       "<p>131321 rows × 17 columns</p>\n",
       "</div>"
      ],
      "text/plain": [
       "            region  price       type  sqfeet  beds  baths  cats_allowed  \\\n",
       "12      birmingham   1120  apartment    1319     3  2.000             1   \n",
       "19      birmingham   1195  apartment    1908     3  2.000             1   \n",
       "24      birmingham    925  apartment    1350     2  2.000             1   \n",
       "25      birmingham    785  apartment    1047     2  1.000             1   \n",
       "27      birmingham   1120  apartment    1319     3  2.000             1   \n",
       "...            ...    ...        ...     ...   ...    ...           ...   \n",
       "265163    columbus   1060  apartment     949     2  2.000             0   \n",
       "265179    columbus    760  apartment     794     1  1.000             1   \n",
       "265183    columbus    870  apartment     933     2  2.000             1   \n",
       "265184    columbus    929  apartment     728     1  1.000             1   \n",
       "265187    columbus   1507  apartment    1660     2  1.500             1   \n",
       "\n",
       "        dogs_allowed  smoking_allowed  wheelchair_access  \\\n",
       "12                 1                1                  0   \n",
       "19                 1                1                  0   \n",
       "24                 1                1                  0   \n",
       "25                 1                1                  0   \n",
       "27                 1                1                  0   \n",
       "...              ...              ...                ...   \n",
       "265163             0                1                  0   \n",
       "265179             1                1                  1   \n",
       "265183             1                1                  0   \n",
       "265184             1                1                  1   \n",
       "265187             1                1                  0   \n",
       "\n",
       "        electric_vehicle_charge  comes_furnished  laundry_options  \\\n",
       "12                            0                0  laundry on site   \n",
       "19                            0                0  laundry on site   \n",
       "24                            0                0  laundry on site   \n",
       "25                            0                0  laundry on site   \n",
       "27                            0                0  laundry on site   \n",
       "...                         ...              ...              ...   \n",
       "265163                        0                0      w/d in unit   \n",
       "265179                        0                0      w/d hookups   \n",
       "265183                        0                0      w/d hookups   \n",
       "265184                        0                0      w/d in unit   \n",
       "265187                        0                0      w/d in unit   \n",
       "\n",
       "           parking_options    lat    long state  \n",
       "12      off-street parking 33.376 -86.805    al  \n",
       "19          street parking 33.423 -86.707    al  \n",
       "24          street parking 33.423 -86.707    al  \n",
       "25          street parking 33.423 -86.707    al  \n",
       "27      off-street parking 33.376 -86.805    al  \n",
       "...                    ...    ...     ...   ...  \n",
       "265163  off-street parking 40.115 -82.910    oh  \n",
       "265179     detached garage 39.966 -83.153    oh  \n",
       "265183      street parking 39.897 -82.896    oh  \n",
       "265184  off-street parking 39.971 -82.924    oh  \n",
       "265187  off-street parking 40.056 -83.042    oh  \n",
       "\n",
       "[131321 rows x 17 columns]"
      ]
     },
     "execution_count": 12,
     "metadata": {},
     "output_type": "execute_result"
    }
   ],
   "source": [
    "df[df.duplicated()]"
   ]
  },
  {
   "cell_type": "code",
   "execution_count": 13,
   "id": "ebe28826",
   "metadata": {},
   "outputs": [
    {
     "data": {
      "text/plain": [
       "Text(0.5, 1.0, 'Price distribution of various types of houses')"
      ]
     },
     "execution_count": 13,
     "metadata": {},
     "output_type": "execute_result"
    },
    {
     "data": {
      "image/png": "[encoded data removed]",
      "text/plain": [
       "<Figure size 864x576 with 1 Axes>"
      ]
     },
     "metadata": {
      "needs_background": "light"
     },
     "output_type": "display_data"
    }
   ],
   "source": [
    "sns.barplot(x='type',y='price',data=df,palette='rainbow')\n",
    "plt.xticks(rotation=20)\n",
    "plt.title('Price distribution of various types of houses',fontsize=32,fontweight='bold',color='sienna',pad=20)"
   ]
  },
  {
   "cell_type": "markdown",
   "id": "30ae6af8",
   "metadata": {},
   "source": [
    "Apartments have the most exorbitant prices amongst all types of houses. "
   ]
  },
  {
   "cell_type": "code",
   "execution_count": 14,
   "id": "d0a909f7",
   "metadata": {},
   "outputs": [
    {
     "data": {
      "text/plain": [
       "Text(0.5, 1.0, 'Proportion of Laundry Options')"
      ]
     },
     "execution_count": 14,
     "metadata": {},
     "output_type": "execute_result"
    },
    {
     "data": {
      "image/png": "[encoded data removed]",
      "text/plain": [
       "<Figure size 864x576 with 1 Axes>"
      ]
     },
     "metadata": {},
     "output_type": "display_data"
    }
   ],
   "source": [
    "values = df['laundry_options'].value_counts().values\n",
    "labels = df['laundry_options'].value_counts().keys()\n",
    "explode = (0.2,0.1,0,0,0)\n",
    "\n",
    "plt.pie(values,labels=labels,explode=explode,shadow=True,autopct='%1.1f%%')\n",
    "plt.title('Proportion of Laundry Options',color='lawngreen',fontsize=32,fontweight='bold',pad=40)"
   ]
  },
  {
   "cell_type": "markdown",
   "id": "5c6da81b",
   "metadata": {},
   "source": [
    "Washer/Drier equipped laundries are available in ample proportion across all the available houses, accounting for a little more than half of the total share. However, laundries equipped with washer/drier hookups contribute to just less than one-fifth of the total share. Likewise, laundry on site and laundry in building services comprise a share of a little more than one-tenth. In constrast, laundry is not available in only 1% of the houses."
   ]
  },
  {
   "cell_type": "code",
   "execution_count": 15,
   "id": "703aa872",
   "metadata": {},
   "outputs": [
    {
     "data": {
      "text/plain": [
       "Text(0.5, 1.0, 'Distribution of Parking Options')"
      ]
     },
     "execution_count": 15,
     "metadata": {},
     "output_type": "execute_result"
    },
    {
     "data": {
      "image/png": "[encoded data removed]",
      "text/plain": [
       "<Figure size 864x576 with 1 Axes>"
      ]
     },
     "metadata": {
      "needs_background": "light"
     },
     "output_type": "display_data"
    }
   ],
   "source": [
    "sns.countplot(df['parking_options'],palette='Set2')\n",
    "plt.title('Distribution of Parking Options',fontsize=32,color='maroon',fontweight='bold',pad=22)"
   ]
  },
  {
   "cell_type": "markdown",
   "id": "ed5ae583",
   "metadata": {},
   "source": [
    "A significant proportion of the parking services have been offered in off-street parking mode. In addition, carport and attached garage parking options comprise a similar share as far as their usage is concerned across all the available houses. Furthermore, street parking and detached garage comprise a considerably lower share in comparison to carport. Additionally, no parking and valet parking account for a tiny fraction of the total share."
   ]
  },
  {
   "cell_type": "code",
   "execution_count": 16,
   "id": "c963d5c8",
   "metadata": {},
   "outputs": [
    {
     "data": {
      "text/plain": [
       "Text(0.5, 1.0, 'Distribution of various house types')"
      ]
     },
     "execution_count": 16,
     "metadata": {},
     "output_type": "execute_result"
    },
    {
     "data": {
      "image/png": "[encoded data removed]",
      "text/plain": [
       "<Figure size 864x576 with 1 Axes>"
      ]
     },
     "metadata": {
      "needs_background": "light"
     },
     "output_type": "display_data"
    }
   ],
   "source": [
    "sns.countplot(df['type'],palette='viridis')\n",
    "plt.xticks(rotation=20)\n",
    "plt.title('Distribution of various house types',fontsize=32,fontweight='bold',color='fuchsia',pad=25)"
   ]
  },
  {
   "cell_type": "markdown",
   "id": "b8c57a15",
   "metadata": {},
   "source": [
    "A vast majority of the total number of houses in the dataset are apartments."
   ]
  },
  {
   "cell_type": "code",
   "execution_count": 17,
   "id": "e3377f2f",
   "metadata": {},
   "outputs": [
    {
     "data": {
      "text/plain": [
       "<AxesSubplot:xlabel='price', ylabel='Density'>"
      ]
     },
     "execution_count": 17,
     "metadata": {},
     "output_type": "execute_result"
    },
    {
     "data": {
      "image/png": "[encoded data removed]",
      "text/plain": [
       "<Figure size 864x576 with 1 Axes>"
      ]
     },
     "metadata": {
      "needs_background": "light"
     },
     "output_type": "display_data"
    }
   ],
   "source": [
    "sns.distplot(df['price'])"
   ]
  },
  {
   "cell_type": "markdown",
   "id": "ab691c48",
   "metadata": {},
   "source": [
    "The distribution of the target variable 'price' is substantially right skewed i.e. it has an enormous positive skew. "
   ]
  },
  {
   "cell_type": "code",
   "execution_count": 18,
   "id": "153b288d",
   "metadata": {},
   "outputs": [
    {
     "data": {
      "text/plain": [
       "<AxesSubplot:xlabel='lat', ylabel='Density'>"
      ]
     },
     "execution_count": 18,
     "metadata": {},
     "output_type": "execute_result"
    },
    {
     "data": {
      "image/png": "[encoded data removed]",
      "text/plain": [
       "<Figure size 864x576 with 1 Axes>"
      ]
     },
     "metadata": {
      "needs_background": "light"
     },
     "output_type": "display_data"
    }
   ],
   "source": [
    "sns.distplot(df['lat'])"
   ]
  },
  {
   "cell_type": "code",
   "execution_count": 19,
   "id": "bd8b24e6",
   "metadata": {},
   "outputs": [
    {
     "data": {
      "text/plain": [
       "<AxesSubplot:xlabel='long', ylabel='Density'>"
      ]
     },
     "execution_count": 19,
     "metadata": {},
     "output_type": "execute_result"
    },
    {
     "data": {
      "image/png": "[encoded data removed]",
      "text/plain": [
       "<Figure size 864x576 with 1 Axes>"
      ]
     },
     "metadata": {
      "needs_background": "light"
     },
     "output_type": "display_data"
    }
   ],
   "source": [
    "sns.distplot(df['long'])"
   ]
  },
  {
   "cell_type": "code",
   "execution_count": 20,
   "id": "e0a749c4",
   "metadata": {},
   "outputs": [
    {
     "data": {
      "text/plain": [
       "Text(0.5, 1.0, 'Correlation Heatmap')"
      ]
     },
     "execution_count": 20,
     "metadata": {},
     "output_type": "execute_result"
    },
    {
     "data": {
      "image/png": "[encoded data removed]",
      "text/plain": [
       "<Figure size 864x576 with 2 Axes>"
      ]
     },
     "metadata": {
      "needs_background": "light"
     },
     "output_type": "display_data"
    }
   ],
   "source": [
    "sns.heatmap(df.corr(),annot=True,cmap='plasma',vmin=-1,vmax=1)\n",
    "plt.title('Correlation Heatmap',fontsize=32,fontweight='bold',color='crimson',pad=25)"
   ]
  },
  {
   "cell_type": "code",
   "execution_count": 21,
   "id": "16866371",
   "metadata": {},
   "outputs": [],
   "source": [
    "# sns.pairplot(df)"
   ]
  },
  {
   "cell_type": "markdown",
   "id": "6e425772",
   "metadata": {},
   "source": [
    "## Outlier Detection and Elimination"
   ]
  },
  {
   "cell_type": "code",
   "execution_count": 22,
   "id": "f1ad5aee",
   "metadata": {},
   "outputs": [
    {
     "data": {
      "image/png": "[encoded data removed]",
      "text/plain": [
       "<Figure size 864x576 with 1 Axes>"
      ]
     },
     "metadata": {
      "needs_background": "light"
     },
     "output_type": "display_data"
    },
    {
     "data": {
      "image/png": "[encoded data removed]",
      "text/plain": [
       "<Figure size 864x576 with 1 Axes>"
      ]
     },
     "metadata": {
      "needs_background": "light"
     },
     "output_type": "display_data"
    },
    {
     "data": {
      "image/png": "[encoded data removed]",
      "text/plain": [
       "<Figure size 864x576 with 1 Axes>"
      ]
     },
     "metadata": {
      "needs_background": "light"
     },
     "output_type": "display_data"
    },
    {
     "data": {
      "image/png": "[encoded data removed]",
      "text/plain": [
       "<Figure size 864x576 with 1 Axes>"
      ]
     },
     "metadata": {
      "needs_background": "light"
     },
     "output_type": "display_data"
    },
    {
     "data": {
      "image/png": "[encoded data removed]",
      "text/plain": [
       "<Figure size 864x576 with 1 Axes>"
      ]
     },
     "metadata": {
      "needs_background": "light"
     },
     "output_type": "display_data"
    },
    {
     "data": {
      "image/png": "[encoded data removed]",
      "text/plain": [
       "<Figure size 864x576 with 1 Axes>"
      ]
     },
     "metadata": {
      "needs_background": "light"
     },
     "output_type": "display_data"
    }
   ],
   "source": [
    "for col in df.columns:\n",
    "    if df[col].dtypes != 'object':\n",
    "        if df[col].nunique() > 2:\n",
    "            sns.boxplot(df[col])\n",
    "            plt.show()"
   ]
  },
  {
   "cell_type": "code",
   "execution_count": 23,
   "id": "15ddfd20",
   "metadata": {},
   "outputs": [],
   "source": [
    "def remove_outliers(df,col):\n",
    "    lower_limit = df[col].quantile(0.25)\n",
    "    upper_limit = df[col].quantile(0.75)\n",
    "    IQR = upper_limit - lower_limit\n",
    "    lower_whisker = lower_limit - 1.5 * IQR\n",
    "    upper_whisker = upper_limit + 1.5 * IQR\n",
    "    return lower_whisker, upper_whisker"
   ]
  },
  {
   "cell_type": "code",
   "execution_count": 24,
   "id": "c6eb0f36",
   "metadata": {},
   "outputs": [],
   "source": [
    "# z_scores = stats.zscore(df)\n",
    "# abs_z_scores = np.abs(z_scores)\n",
    "# filtered_entries = (abs_z_scores < 3).all(axis=1)\n",
    "# df = df[filtered_entries]"
   ]
  },
  {
   "cell_type": "code",
   "execution_count": 25,
   "id": "61a6fceb",
   "metadata": {},
   "outputs": [
    {
     "data": {
      "text/plain": [
       "(238080, 17)"
      ]
     },
     "execution_count": 25,
     "metadata": {},
     "output_type": "execute_result"
    }
   ],
   "source": [
    "for col in ['price','sqfeet','beds','baths']:\n",
    "    whiskers = remove_outliers(df,col)\n",
    "    df = df[(df[col]>whiskers[0]) & (df[col]<whiskers[1])]\n",
    "df.shape"
   ]
  },
  {
   "cell_type": "markdown",
   "id": "68dd0cc0",
   "metadata": {},
   "source": [
    "## Categorical Encoding using Label Encoder"
   ]
  },
  {
   "cell_type": "code",
   "execution_count": 31,
   "id": "223eb75e",
   "metadata": {},
   "outputs": [],
   "source": [
    "le = LabelEncoder()\n",
    "for col in df.columns:\n",
    "    if df[col].dtypes == 'object':\n",
    "        df[col] = le.fit_transform(df[col])\n",
    "        df[col] = df[col].astype(int)"
   ]
  },
  {
   "cell_type": "markdown",
   "id": "96995fdf",
   "metadata": {},
   "source": [
    "## Feature Scaling and Normalization along with division of the dataset into training and testing sets"
   ]
  },
  {
   "cell_type": "code",
   "execution_count": 32,
   "id": "012bb31c",
   "metadata": {},
   "outputs": [],
   "source": [
    "X = df.drop('price',axis=1)\n",
    "y = df.price\n",
    "scaler = StandardScaler()\n",
    "features = X.columns\n",
    "scaled_X = scaler.fit_transform(X)\n",
    "scaled_X = pd.DataFrame(scaled_X,columns=features)\n",
    "X_train, X_test, y_train, y_test = train_test_split(scaled_X,y,test_size=0.2,random_state=1)"
   ]
  },
  {
   "cell_type": "markdown",
   "id": "7b3251f0",
   "metadata": {},
   "source": [
    "## Model Training and Evaluation"
   ]
  },
  {
   "cell_type": "markdown",
   "id": "f73618a2",
   "metadata": {},
   "source": [
    "### Linear Regression"
   ]
  },
  {
   "cell_type": "code",
   "execution_count": 33,
   "id": "6c9a2131",
   "metadata": {},
   "outputs": [
    {
     "data": {
      "text/plain": [
       "LinearRegression()"
      ]
     },
     "execution_count": 33,
     "metadata": {},
     "output_type": "execute_result"
    }
   ],
   "source": [
    "lr = LinearRegression()\n",
    "lr.fit(X_train,y_train)"
   ]
  },
  {
   "cell_type": "code",
   "execution_count": 34,
   "id": "7b0bf2a2",
   "metadata": {},
   "outputs": [
    {
     "data": {
      "text/plain": [
       "0.23417530877282766"
      ]
     },
     "execution_count": 34,
     "metadata": {},
     "output_type": "execute_result"
    }
   ],
   "source": [
    "lr.score(X_test,y_test)"
   ]
  },
  {
   "cell_type": "code",
   "execution_count": 35,
   "id": "8ba687b3",
   "metadata": {},
   "outputs": [
    {
     "name": "stdout",
     "output_type": "stream",
     "text": [
      "RMSE: 366.9223119272959\n",
      "MAE: 281.98481930989556\n",
      "MSE: 134631.98299007182\n",
      "R2 Score: 0.23417530877282766\n"
     ]
    }
   ],
   "source": [
    "lr_pred = lr.predict(X_test)\n",
    "print(\"RMSE:\",np.sqrt(mean_squared_error(y_test,lr_pred)))\n",
    "print(\"MAE:\",mean_absolute_error(y_test,lr_pred))\n",
    "print(\"MSE:\",mean_squared_error(y_test,lr_pred))\n",
    "print(\"R2 Score:\",r2_score(y_test,lr_pred))"
   ]
  },
  {
   "cell_type": "code",
   "execution_count": 36,
   "id": "c1b69391",
   "metadata": {},
   "outputs": [
    {
     "data": {
      "text/plain": [
       "HuberRegressor()"
      ]
     },
     "execution_count": 36,
     "metadata": {},
     "output_type": "execute_result"
    }
   ],
   "source": [
    "hr = HuberRegressor()\n",
    "hr.fit(X_train,y_train)"
   ]
  },
  {
   "cell_type": "code",
   "execution_count": 37,
   "id": "d1234789",
   "metadata": {},
   "outputs": [
    {
     "data": {
      "text/plain": [
       "0.2209585106637162"
      ]
     },
     "execution_count": 37,
     "metadata": {},
     "output_type": "execute_result"
    }
   ],
   "source": [
    "hr.score(X_test,y_test)"
   ]
  },
  {
   "cell_type": "code",
   "execution_count": 38,
   "id": "09c24473",
   "metadata": {},
   "outputs": [
    {
     "name": "stdout",
     "output_type": "stream",
     "text": [
      "RMSE: 370.07498718080114\n",
      "MAE: 277.69199694801785\n",
      "MSE: 136955.49613687015\n",
      "R2 Score: 0.2209585106637162\n"
     ]
    }
   ],
   "source": [
    "hr_pred = hr.predict(X_test)\n",
    "print(\"RMSE:\",np.sqrt(mean_squared_error(y_test,hr_pred)))\n",
    "print(\"MAE:\",mean_absolute_error(y_test,hr_pred))\n",
    "print(\"MSE:\",mean_squared_error(y_test,hr_pred))\n",
    "print(\"R2 Score:\",r2_score(y_test,hr_pred))"
   ]
  },
  {
   "cell_type": "code",
   "execution_count": 39,
   "id": "a0c9fa5d",
   "metadata": {},
   "outputs": [
    {
     "data": {
      "text/plain": [
       "ARDRegression()"
      ]
     },
     "execution_count": 39,
     "metadata": {},
     "output_type": "execute_result"
    }
   ],
   "source": [
    "ard = ARDRegression()\n",
    "ard.fit(X_train,y_train)"
   ]
  },
  {
   "cell_type": "code",
   "execution_count": 40,
   "id": "c933fc33",
   "metadata": {},
   "outputs": [
    {
     "data": {
      "text/plain": [
       "0.23417746235649683"
      ]
     },
     "execution_count": 40,
     "metadata": {},
     "output_type": "execute_result"
    }
   ],
   "source": [
    "ard.score(X_test,y_test)"
   ]
  },
  {
   "cell_type": "code",
   "execution_count": 41,
   "id": "925059c7",
   "metadata": {},
   "outputs": [
    {
     "name": "stdout",
     "output_type": "stream",
     "text": [
      "RMSE: 366.9217960138869\n",
      "MAE: 281.9830135688049\n",
      "MSE: 134631.6043900564\n",
      "R2 Score: 0.23417746235649683\n"
     ]
    }
   ],
   "source": [
    "ard_pred = ard.predict(X_test)\n",
    "print(\"RMSE:\",np.sqrt(mean_squared_error(y_test,ard_pred)))\n",
    "print(\"MAE:\",mean_absolute_error(y_test,ard_pred))\n",
    "print(\"MSE:\",mean_squared_error(y_test,ard_pred))\n",
    "print(\"R2 Score:\",r2_score(y_test,ard_pred))"
   ]
  },
  {
   "cell_type": "code",
   "execution_count": 42,
   "id": "5acaf0e7",
   "metadata": {},
   "outputs": [
    {
     "data": {
      "text/plain": [
       "PoissonRegressor()"
      ]
     },
     "execution_count": 42,
     "metadata": {},
     "output_type": "execute_result"
    }
   ],
   "source": [
    "poison = PoissonRegressor()\n",
    "poison.fit(X_train,y_train)"
   ]
  },
  {
   "cell_type": "code",
   "execution_count": 43,
   "id": "eb23cdaf",
   "metadata": {},
   "outputs": [
    {
     "data": {
      "text/plain": [
       "0.23144600862319764"
      ]
     },
     "execution_count": 43,
     "metadata": {},
     "output_type": "execute_result"
    }
   ],
   "source": [
    "poison.score(X_test,y_test)"
   ]
  },
  {
   "cell_type": "code",
   "execution_count": 44,
   "id": "d928d320",
   "metadata": {},
   "outputs": [
    {
     "name": "stdout",
     "output_type": "stream",
     "text": [
      "RMSE: 366.70093555836\n",
      "MAE: 281.12978716727025\n",
      "MSE: 134469.5761393765\n",
      "R2 Score: 0.2350991247452633\n"
     ]
    }
   ],
   "source": [
    "poison_pred = poison.predict(X_test)\n",
    "print(\"RMSE:\",np.sqrt(mean_squared_error(y_test,poison_pred)))\n",
    "print(\"MAE:\",mean_absolute_error(y_test,poison_pred))\n",
    "print(\"MSE:\",mean_squared_error(y_test,poison_pred))\n",
    "print(\"R2 Score:\",r2_score(y_test,poison_pred))"
   ]
  },
  {
   "cell_type": "code",
   "execution_count": 45,
   "id": "33f12399",
   "metadata": {},
   "outputs": [
    {
     "data": {
      "text/plain": [
       "Lasso()"
      ]
     },
     "execution_count": 45,
     "metadata": {},
     "output_type": "execute_result"
    }
   ],
   "source": [
    "ls = Lasso()\n",
    "ls.fit(X_train,y_train)"
   ]
  },
  {
   "cell_type": "code",
   "execution_count": 46,
   "id": "01fd8a40",
   "metadata": {},
   "outputs": [
    {
     "data": {
      "text/plain": [
       "0.2339411268507593"
      ]
     },
     "execution_count": 46,
     "metadata": {},
     "output_type": "execute_result"
    }
   ],
   "source": [
    "ls.score(X_test,y_test)"
   ]
  },
  {
   "cell_type": "code",
   "execution_count": 47,
   "id": "1300a59d",
   "metadata": {},
   "outputs": [
    {
     "name": "stdout",
     "output_type": "stream",
     "text": [
      "RMSE: 366.97840831943546\n",
      "MAE: 282.1847348452588\n",
      "MSE: 134673.1521726663\n",
      "R2 Score: 0.2339411268507593\n"
     ]
    }
   ],
   "source": [
    "ls_pred = ls.predict(X_test)\n",
    "print(\"RMSE:\",np.sqrt(mean_squared_error(y_test,ls_pred)))\n",
    "print(\"MAE:\",mean_absolute_error(y_test,ls_pred))\n",
    "print(\"MSE:\",mean_squared_error(y_test,ls_pred))\n",
    "print(\"R2 Score:\",r2_score(y_test,ls_pred))"
   ]
  },
  {
   "cell_type": "code",
   "execution_count": 48,
   "id": "5253e4f5",
   "metadata": {},
   "outputs": [
    {
     "data": {
      "text/plain": [
       "TweedieRegressor()"
      ]
     },
     "execution_count": 48,
     "metadata": {},
     "output_type": "execute_result"
    }
   ],
   "source": [
    "tw = TweedieRegressor()\n",
    "tw.fit(X_train,y_train)"
   ]
  },
  {
   "cell_type": "code",
   "execution_count": 49,
   "id": "e76cfc50",
   "metadata": {},
   "outputs": [
    {
     "data": {
      "text/plain": [
       "0.17757105243917215"
      ]
     },
     "execution_count": 49,
     "metadata": {},
     "output_type": "execute_result"
    }
   ],
   "source": [
    "tw.score(X_test,y_test)"
   ]
  },
  {
   "cell_type": "code",
   "execution_count": 50,
   "id": "b5aec14a",
   "metadata": {},
   "outputs": [
    {
     "name": "stdout",
     "output_type": "stream",
     "text": [
      "RMSE: 380.24072825183146\n",
      "MAE: 297.6402183796277\n",
      "MSE: 144583.01142148313\n",
      "R2 Score: 0.17757105243917215\n"
     ]
    }
   ],
   "source": [
    "tw_pred = tw.predict(X_test)\n",
    "print(\"RMSE:\",np.sqrt(mean_squared_error(y_test,tw_pred)))\n",
    "print(\"MAE:\",mean_absolute_error(y_test,tw_pred))\n",
    "print(\"MSE:\",mean_squared_error(y_test,tw_pred))\n",
    "print(\"R2 Score:\",r2_score(y_test,tw_pred))"
   ]
  },
  {
   "cell_type": "code",
   "execution_count": 51,
   "id": "7d852b04",
   "metadata": {},
   "outputs": [
    {
     "data": {
      "text/plain": [
       "RANSACRegressor()"
      ]
     },
     "execution_count": 51,
     "metadata": {},
     "output_type": "execute_result"
    }
   ],
   "source": [
    "ransac = RANSACRegressor()\n",
    "ransac.fit(X_train,y_train)"
   ]
  },
  {
   "cell_type": "code",
   "execution_count": 52,
   "id": "05e6bc14",
   "metadata": {},
   "outputs": [
    {
     "data": {
      "text/plain": [
       "-0.5032552985526206"
      ]
     },
     "execution_count": 52,
     "metadata": {},
     "output_type": "execute_result"
    }
   ],
   "source": [
    "ransac.score(X_test,y_test)"
   ]
  },
  {
   "cell_type": "code",
   "execution_count": 53,
   "id": "c72085c8",
   "metadata": {},
   "outputs": [
    {
     "name": "stdout",
     "output_type": "stream",
     "text": [
      "RMSE: 514.0742027625685\n",
      "MAE: 377.42638390832394\n",
      "MSE: 264272.2859459704\n",
      "R2 Score: -0.5032552985526206\n"
     ]
    }
   ],
   "source": [
    "ransac_pred = ransac.predict(X_test)\n",
    "print(\"RMSE:\",np.sqrt(mean_squared_error(y_test,ransac_pred)))\n",
    "print(\"MAE:\",mean_absolute_error(y_test,ransac_pred))\n",
    "print(\"MSE:\",mean_squared_error(y_test,ransac_pred))\n",
    "print(\"R2 Score:\",r2_score(y_test,ransac_pred))"
   ]
  },
  {
   "cell_type": "code",
   "execution_count": 54,
   "id": "04ee2020",
   "metadata": {},
   "outputs": [
    {
     "data": {
      "text/plain": [
       "XGBRegressor(base_score=0.5, booster='gbtree', callbacks=None,\n",
       "             colsample_bylevel=1, colsample_bynode=1, colsample_bytree=1,\n",
       "             early_stopping_rounds=None, enable_categorical=False,\n",
       "             eval_metric=None, gamma=0, gpu_id=-1, grow_policy='depthwise',\n",
       "             importance_type=None, interaction_constraints='',\n",
       "             learning_rate=0.2, max_bin=256, max_cat_to_onehot=4,\n",
       "             max_delta_step=0, max_depth=8, max_leaves=0, min_child_weight=12,\n",
       "             missing=nan, monotone_constraints='()', n_estimators=500, n_jobs=0,\n",
       "             num_parallel_tree=1, predictor='auto', random_state=0, reg_alpha=0,\n",
       "             reg_lambda=1, ...)"
      ]
     },
     "execution_count": 54,
     "metadata": {},
     "output_type": "execute_result"
    }
   ],
   "source": [
    "xgb = XGBRegressor(n_estimators=500,learning_rate=0.2,gamma=0,min_child_weight=12,subsample=0.6,colsample_bytree=1,max_depth=8)\n",
    "xgb.fit(X_train,y_train)"
   ]
  },
  {
   "cell_type": "code",
   "execution_count": 55,
   "id": "2f4e0b4d",
   "metadata": {},
   "outputs": [
    {
     "data": {
      "text/plain": [
       "0.8905800398707664"
      ]
     },
     "execution_count": 55,
     "metadata": {},
     "output_type": "execute_result"
    }
   ],
   "source": [
    "xgb.score(X_test,y_test)"
   ]
  },
  {
   "cell_type": "code",
   "execution_count": 56,
   "id": "9cbaf9f0",
   "metadata": {},
   "outputs": [
    {
     "name": "stdout",
     "output_type": "stream",
     "text": [
      "RMSE: 138.69401326440624\n",
      "MAE: 80.09395690026983\n",
      "MSE: 19236.02931538729\n",
      "R2 Score: 0.8905800398707664\n"
     ]
    }
   ],
   "source": [
    "xgb_pred = xgb.predict(X_test)\n",
    "print(\"RMSE:\",np.sqrt(mean_squared_error(y_test,xgb_pred)))\n",
    "print(\"MAE:\",mean_absolute_error(y_test,xgb_pred))\n",
    "print(\"MSE:\",mean_squared_error(y_test,xgb_pred))\n",
    "print(\"R2 Score:\",r2_score(y_test,xgb_pred))"
   ]
  },
  {
   "cell_type": "code",
   "execution_count": 57,
   "id": "ae72d49b",
   "metadata": {},
   "outputs": [
    {
     "data": {
      "text/plain": [
       "DecisionTreeRegressor()"
      ]
     },
     "execution_count": 57,
     "metadata": {},
     "output_type": "execute_result"
    }
   ],
   "source": [
    "dtree = DecisionTreeRegressor()\n",
    "dtree.fit(X_train,y_train)"
   ]
  },
  {
   "cell_type": "code",
   "execution_count": 58,
   "id": "8f16c1b0",
   "metadata": {},
   "outputs": [
    {
     "data": {
      "text/plain": [
       "0.8354494482967373"
      ]
     },
     "execution_count": 58,
     "metadata": {},
     "output_type": "execute_result"
    }
   ],
   "source": [
    "dtree.score(X_test,y_test)"
   ]
  },
  {
   "cell_type": "code",
   "execution_count": 59,
   "id": "3eac26ef",
   "metadata": {},
   "outputs": [
    {
     "name": "stdout",
     "output_type": "stream",
     "text": [
      "RMSE: 170.08229619123696\n",
      "MAE: 67.61436984522972\n",
      "MSE: 28927.98747768366\n",
      "R2 Score: 0.8354494482967373\n"
     ]
    }
   ],
   "source": [
    "dtree_pred = dtree.predict(X_test)\n",
    "print(\"RMSE:\",np.sqrt(mean_squared_error(y_test,dtree_pred)))\n",
    "print(\"MAE:\",mean_absolute_error(y_test,dtree_pred))\n",
    "print(\"MSE:\",mean_squared_error(y_test,dtree_pred))\n",
    "print(\"R2 Score:\",r2_score(y_test,dtree_pred))"
   ]
  },
  {
   "cell_type": "code",
   "execution_count": 60,
   "id": "a8121d8b",
   "metadata": {},
   "outputs": [
    {
     "data": {
      "text/plain": [
       "RandomForestRegressor()"
      ]
     },
     "execution_count": 60,
     "metadata": {},
     "output_type": "execute_result"
    }
   ],
   "source": [
    "rfc = RandomForestRegressor()\n",
    "rfc.fit(X_train.values,y_train.values)"
   ]
  },
  {
   "cell_type": "code",
   "execution_count": 61,
   "id": "9ed194d9",
   "metadata": {},
   "outputs": [
    {
     "data": {
      "text/plain": [
       "0.9027701754162435"
      ]
     },
     "execution_count": 61,
     "metadata": {},
     "output_type": "execute_result"
    }
   ],
   "source": [
    "rfc.score(X_test.values,y_test.values)"
   ]
  },
  {
   "cell_type": "code",
   "execution_count": 62,
   "id": "9baab467",
   "metadata": {},
   "outputs": [
    {
     "name": "stdout",
     "output_type": "stream",
     "text": [
      "RMSE: 130.74021359291936\n",
      "MAE: 59.28198425315992\n",
      "MSE: 17093.003450322176\n",
      "R2 Score: 0.9027701754162435\n"
     ]
    }
   ],
   "source": [
    "rfc_pred = rfc.predict(X_test.values)\n",
    "print(\"RMSE:\",np.sqrt(mean_squared_error(y_test,rfc_pred)))\n",
    "print(\"MAE:\",mean_absolute_error(y_test,rfc_pred))\n",
    "print(\"MSE:\",mean_squared_error(y_test,rfc_pred))\n",
    "print(\"R2 Score:\",r2_score(y_test,rfc_pred))"
   ]
  },
  {
   "cell_type": "markdown",
   "id": "a53e0e80",
   "metadata": {},
   "source": [
    "As is clearly evident from the performance of all used models, Random Forest Regressor had a superior performance, possessing an overall prediction accuracy of more than 90% which is quite impressive!"
   ]
  },
  {
   "cell_type": "markdown",
   "id": "48980814",
   "metadata": {},
   "source": [
    "## Saving the Random Forest Regressor model for future use"
   ]
  },
  {
   "cell_type": "code",
   "execution_count": 63,
   "id": "0dfced04",
   "metadata": {},
   "outputs": [
    {
     "data": {
      "text/plain": [
       "['model.pkl']"
      ]
     },
     "execution_count": 63,
     "metadata": {},
     "output_type": "execute_result"
    }
   ],
   "source": [
    "joblib.dump(rfc,'model.pkl',compress=4)"
   ]
  },
  {
   "cell_type": "code",
   "execution_count": 64,
   "id": "0d8e4125",
   "metadata": {},
   "outputs": [
    {
     "data": {
      "text/plain": [
       "RandomForestRegressor()"
      ]
     },
     "execution_count": 64,
     "metadata": {},
     "output_type": "execute_result"
    }
   ],
   "source": [
    "model = joblib.load('model.pkl')\n",
    "model"
   ]
  }
 ],
 "metadata": {
  "kernelspec": {
   "display_name": "Python 3 (ipykernel)",
   "language": "python",
   "name": "python3"
  },
  "language_info": {
   "codemirror_mode": {
    "name": "ipython",
    "version": 3
   },
   "file_extension": ".py",
   "mimetype": "text/x-python",
   "name": "python",
   "nbconvert_exporter": "python",
   "pygments_lexer": "ipython3",
   "version": "3.8.8"
  }
 },
 "nbformat": 4,
 "nbformat_minor": 5
}
